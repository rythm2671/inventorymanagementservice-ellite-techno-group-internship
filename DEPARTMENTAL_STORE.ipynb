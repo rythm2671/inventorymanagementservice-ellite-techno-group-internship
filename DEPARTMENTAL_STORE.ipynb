{
  "nbformat": 4,
  "nbformat_minor": 0,
  "metadata": {
    "colab": {
      "name": "DEPARTMENTAL STORE.ipynb",
      "provenance": [],
      "collapsed_sections": []
    },
    "kernelspec": {
      "name": "python3",
      "display_name": "Python 3"
    },
    "language_info": {
      "name": "python"
    }
  },
  "cells": [
    {
      "cell_type": "code",
      "metadata": {
        "id": "bAv1g6pnQIox"
      },
      "source": [
        "products ={1001 : {\"name\": \"Atta\" , \"quantity\":10 , \"price\":300 , \"brand\": \"shaktibhog\" , \"exp date\":\"oct 2022\" },\n",
        "           1002 : {\"name\": \"refind\", \"quantity\":10 , \"price\":200 , \"brand\": \"fortune\" , \"exp date\":\"oct 2022\" },\n",
        "           1003 : {\"name\": \"salt\", \"quantity\":10 , \"price\":20 , \"brand\": \"tata\" , \"exp date\":\"oct 2022\" },\n",
        "           1004 : {\"name\": \"dates\", \"quantity\":10 , \"price\":120 , \"brand\": \"lion\" , \"exp date\":\"oct 2022\" },\n",
        "           1005 : {\"name\": \"chocolates\", \"quantity\":10 , \"price\":30 , \"brand\": \"cadbury\" , \"exp date\":\"oct 2022\" },\n",
        "           1006 : {\"name\": \"battery\", \"quantity\":10 , \"price\":10 , \"brand\": \"cello\" , \"exp date\":\"oct 2022\" },\n",
        "           1007 : {\"name\": \"ice cream\", \"quantity\":10 , \"price\":150 , \"brand\": \"nic\" , \"exp date\":\"oct 2022\" },\n",
        "           1008 : {\"name\": \"kidney beans\", \"quantity\":100 , \"price\":200 , \"brand\": \"kashmiri\" , \"exp date\":\"oct 2022\" },\n",
        "           1009 : {\"name\": \"turmeric\", \"quantity\":10 , \"price\":20 , \"brand\": \"tata\" , \"exp date\":\"oct 2022\" },\n",
        "           1010 : {\"name\": \"hair oil\", \"quantity\":10 , \"price\":20 , \"brand\": \"P&G\" , \"exp date\":\"oct 2022\" },\n",
        "           1011 : {\"name\": \"shampoo\", \"quantity\":10 , \"price\":200 , \"brand\": \"P&G\" , \"exp date\":\"oct 2022\" },\n",
        "           1012 : {\"name\": \"soap\", \"quantity\":10 , \"price\":50 , \"brand\": \"dettol\" , \"exp date\":\"oct 2022\" },\n",
        "           1013 : {\"name\": \"powder\", \"quantity\":10 , \"price\":200 , \"brand\": \"ponds\" , \"exp date\":\"oct 2022\" },\n",
        "           1014 : {\"name\": \"face cream\", \"quantity\":10 , \"price\":200 , \"brand\": \"olay\" , \"exp date\":\"oct 2022\" },\n",
        "           1015 : {\"name\": \"cooking oil\", \"quantity\":10 , \"price\":200 , \"brand\": \"fortune\" , \"exp date\":\"oct 2022\" },\n",
        "           1016 : {\"name\": \"pepsi\", \"quantity\":10 , \"price\":20 , \"brand\": \"pepsico\" , \"exp date\":\"oct 2022\" },\n",
        "           1017 : {\"name\": \"kurkure\", \"quantity\":10 , \"price\":20 , \"brand\": \"pepsico\" , \"exp date\":\"oct 2022\" },\n",
        "           1018 : {\"name\": \"lays\", \"quantity\":10 , \"price\":20 , \"brand\": \"pepsico\" , \"exp date\":\"oct 2022\" },\n",
        "           1019 : {\"name\": \"hair conditioner\", \"quantity\":10 , \"price\":200 , \"brand\": \"p&g\" , \"exp date\":\"oct 2022\" },\n",
        "           1020 : {\"name\": \"bournvita\", \"quantity\":10 , \"price\":200 , \"brand\": \"cadbury\" , \"exp date\":\"oct 2022\" },\n",
        "           1021 : {\"name\": \"sugar\", \"quantity\":10 , \"price\":40 , \"brand\": \"tata\" , \"exp date\":\"oct 2022\" },\n",
        "           1022 : {\"name\": \"jaggery\", \"quantity\":10 , \"price\":100 , \"brand\": \"tata\" , \"exp date\":\"oct 2022\" },\n",
        "           1023 : {\"name\": \"tea leaf\", \"quantity\":10 , \"price\":200 , \"brand\": \"tata\" , \"exp date\":\"oct 2022\" },\n",
        "           1024 : {\"name\": \"oats\", \"quantity\":10 , \"price\":20 , \"brand\": \"saffola\" , \"exp date\":\"oct 2022\" },\n",
        "           1025 : {\"name\": \"dish bar\", \"quantity\":10 , \"price\":20 , \"brand\": \"vim\" , \"exp date\":\"oct 2022\" },\n",
        "           1026 : {\"name\": \"macaroni\", \"quantity\":10 , \"price\":50 , \"brand\": \"tata\" , \"exp date\":\"oct 2022\" },\n",
        "           1027 : {\"name\": \"vermicelli\", \"quantity\":10 , \"price\":20 , \"brand\": \"mdh\" , \"exp date\":\"oct 2022\" }, \n",
        "           1028 : {\"name\": \"food masala\", \"quantity\":10 , \"price\":20 , \"brand\": \"mdh\" , \"exp date\":\"oct 2022\" },\n",
        "           1029 : {\"name\": \"maggi\", \"quantity\":10 , \"price\":12 , \"brand\": \"nestle\" , \"exp date\":\"oct 2022\" },\n",
        "           1030 : {\"name\": \"kit kat\", \"quantity\":10 , \"price\":20 , \"brand\": \"nestle\" , \"exp date\":\"oct 2022\" },\n",
        "           1031 : {\"name\": \"biscuit\", \"quantity\":10 , \"price\":20 , \"brand\": \"oreo\" , \"exp date\":\"oct 2022\" },\n",
        "           1032 : {\"name\": \"namkeen\", \"quantity\":10 , \"price\":80 , \"brand\": \"haldiram\" , \"exp date\":\"oct 2022\" },\n",
        "           1033 : {\"name\": \"sanitizer\", \"quantity\":10 , \"price\":50 , \"brand\": \"dettol\" , \"exp date\":\"oct 2022\" },\n",
        "           1034 : {\"name\": \"mask\", \"quantity\":100 , \"price\":60 , \"brand\": \"nike\" , \"exp date\":\"oct 2022\" },\n",
        "           1035 : {\"name\": \"dettol handwash\", \"quantity\":10 , \"price\":109 , \"brand\": \"dettol\" , \"exp date\":\"oct 2022\" },\n",
        "           1036 : {\"name\": \"floor cleaner\", \"quantity\":10 , \"price\":100 , \"brand\": \"dettol\" , \"exp date\":\"oct 2022\" },\n",
        "           1037 : {\"name\": \"jam\", \"quantity\":10 , \"price\":80 , \"brand\": \"kissan\" , \"exp date\":\"oct 2022\" },\n",
        "           1038 : {\"name\": \"ketchup\", \"quantity\":10 , \"price\":99 , \"brand\": \"kissan\" , \"exp date\":\"oct 2022\" }, \n",
        "           1040 : {\"name\": \"coffee\", \"quantity\":10 , \"price\":60 , \"brand\": \"nescafe\" , \"exp date\":\"oct 2022\" },\n",
        "           1041 : {\"name\": \"odonil bathroom air freshner\", \"quantity\":10 , \"price\":50 , \"brand\": \"odonil\" , \"exp date\":\"oct 2022\" },\n",
        "           1042 : {\"name\": \"harpic disinfectant toilet\", \"quantity\":10 , \"price\":120 , \"brand\": \"harpic\" , \"exp date\":\"oct 2022\" },\n",
        "           1043 : {\"name\": \"colin\", \"quantity\":10 , \"price\":200 , \"brand\": \"godrej\" , \"exp date\":\"oct 2022\" },\n",
        "           1044 : {\"name\": \"washing powder\", \"quantity\":10 , \"price\":200 , \"brand\": \"tide\" , \"exp date\":\"oct 2022\" },\n",
        "           1045 : {\"name\": \"ezee wash\", \"quantity\":10 , \"price\":200 , \"brand\": \"godrej\" , \"exp date\":\"oct 2022\" },\n",
        "           1046 : {\"name\": \"mosquito killer\", \"quantity\":10 , \"price\":189 , \"brand\": \"hit\" , \"exp date\":\"oct 2022\" },\n",
        "           1047 : {\"name\": \"mosquito repellant refill\", \"quantity\":10 , \"price\":129 , \"brand\": \"all out\" , \"exp date\":\"oct 2022\" }}"
      ],
      "execution_count": 12,
      "outputs": []
    },
    {
      "cell_type": "code",
      "metadata": {
        "id": "9nIDAAe-zeGy",
        "colab": {
          "base_uri": "https://localhost:8080/"
        },
        "outputId": "00eb2d81-61b2-4d91-d124-07734cc34c0e"
      },
      "source": [
        "pro = 1040\n",
        "\n",
        "print(products[pro][\"name\"])\n",
        "print(products[pro][\"quantity\"])\n",
        "print(products[pro][\"brand\"])\n",
        "print(products[pro][\"price\"])\n",
        "print(products[pro][\"exp date\"])"
      ],
      "execution_count": 16,
      "outputs": [
        {
          "output_type": "stream",
          "name": "stdout",
          "text": [
            "coffee\n",
            "10\n",
            "nescafe\n",
            "60\n",
            "oct 2022\n"
          ]
        }
      ]
    },
    {
      "cell_type": "code",
      "metadata": {
        "id": "0gNSZrwyzeJs"
      },
      "source": [
        "import json"
      ],
      "execution_count": 17,
      "outputs": []
    },
    {
      "cell_type": "code",
      "metadata": {
        "id": "ge_TcPaizeNQ"
      },
      "source": [
        "js = json.dumps(products)"
      ],
      "execution_count": 18,
      "outputs": []
    },
    {
      "cell_type": "code",
      "metadata": {
        "id": "Ewzk3_EbzeXJ",
        "colab": {
          "base_uri": "https://localhost:8080/",
          "height": 120
        },
        "outputId": "9d73156c-9d0f-442f-a277-1396733bff52"
      },
      "source": [
        "js"
      ],
      "execution_count": 19,
      "outputs": [
        {
          "output_type": "execute_result",
          "data": {
            "application/vnd.google.colaboratory.intrinsic+json": {
              "type": "string"
            },
            "text/plain": [
              "'{\"1001\": {\"name\": \"Atta\", \"quantity\": 10, \"price\": 300, \"brand\": \"shaktibhog\", \"exp date\": \"oct 2022\"}, \"1002\": {\"name\": \"refind\", \"quantity\": 10, \"price\": 200, \"brand\": \"fortune\", \"exp date\": \"oct 2022\"}, \"1003\": {\"name\": \"salt\", \"quantity\": 10, \"price\": 20, \"brand\": \"tata\", \"exp date\": \"oct 2022\"}, \"1004\": {\"name\": \"dates\", \"quantity\": 10, \"price\": 120, \"brand\": \"lion\", \"exp date\": \"oct 2022\"}, \"1005\": {\"name\": \"chocolates\", \"quantity\": 10, \"price\": 30, \"brand\": \"cadbury\", \"exp date\": \"oct 2022\"}, \"1006\": {\"name\": \"battery\", \"quantity\": 10, \"price\": 10, \"brand\": \"cello\", \"exp date\": \"oct 2022\"}, \"1007\": {\"name\": \"ice cream\", \"quantity\": 10, \"price\": 150, \"brand\": \"nic\", \"exp date\": \"oct 2022\"}, \"1008\": {\"name\": \"kidney beans\", \"quantity\": 100, \"price\": 200, \"brand\": \"kashmiri\", \"exp date\": \"oct 2022\"}, \"1009\": {\"name\": \"turmeric\", \"quantity\": 10, \"price\": 20, \"brand\": \"tata\", \"exp date\": \"oct 2022\"}, \"1010\": {\"name\": \"hair oil\", \"quantity\": 10, \"price\": 20, \"brand\": \"P&G\", \"exp date\": \"oct 2022\"}, \"1011\": {\"name\": \"shampoo\", \"quantity\": 10, \"price\": 200, \"brand\": \"P&G\", \"exp date\": \"oct 2022\"}, \"1012\": {\"name\": \"soap\", \"quantity\": 10, \"price\": 50, \"brand\": \"dettol\", \"exp date\": \"oct 2022\"}, \"1013\": {\"name\": \"powder\", \"quantity\": 10, \"price\": 200, \"brand\": \"ponds\", \"exp date\": \"oct 2022\"}, \"1014\": {\"name\": \"face cream\", \"quantity\": 10, \"price\": 200, \"brand\": \"olay\", \"exp date\": \"oct 2022\"}, \"1015\": {\"name\": \"cooking oil\", \"quantity\": 10, \"price\": 200, \"brand\": \"fortune\", \"exp date\": \"oct 2022\"}, \"1016\": {\"name\": \"pepsi\", \"quantity\": 10, \"price\": 20, \"brand\": \"pepsico\", \"exp date\": \"oct 2022\"}, \"1017\": {\"name\": \"kurkure\", \"quantity\": 10, \"price\": 20, \"brand\": \"pepsico\", \"exp date\": \"oct 2022\"}, \"1018\": {\"name\": \"lays\", \"quantity\": 10, \"price\": 20, \"brand\": \"pepsico\", \"exp date\": \"oct 2022\"}, \"1019\": {\"name\": \"hair conditioner\", \"quantity\": 10, \"price\": 200, \"brand\": \"p&g\", \"exp date\": \"oct 2022\"}, \"1020\": {\"name\": \"bournvita\", \"quantity\": 10, \"price\": 200, \"brand\": \"cadbury\", \"exp date\": \"oct 2022\"}, \"1021\": {\"name\": \"sugar\", \"quantity\": 10, \"price\": 40, \"brand\": \"tata\", \"exp date\": \"oct 2022\"}, \"1022\": {\"name\": \"jaggery\", \"quantity\": 10, \"price\": 100, \"brand\": \"tata\", \"exp date\": \"oct 2022\"}, \"1023\": {\"name\": \"tea leaf\", \"quantity\": 10, \"price\": 200, \"brand\": \"tata\", \"exp date\": \"oct 2022\"}, \"1024\": {\"name\": \"oats\", \"quantity\": 10, \"price\": 20, \"brand\": \"saffola\", \"exp date\": \"oct 2022\"}, \"1025\": {\"name\": \"dish bar\", \"quantity\": 10, \"price\": 20, \"brand\": \"vim\", \"exp date\": \"oct 2022\"}, \"1026\": {\"name\": \"macaroni\", \"quantity\": 10, \"price\": 50, \"brand\": \"tata\", \"exp date\": \"oct 2022\"}, \"1027\": {\"name\": \"vermicelli\", \"quantity\": 10, \"price\": 20, \"brand\": \"mdh\", \"exp date\": \"oct 2022\"}, \"1028\": {\"name\": \"food masala\", \"quantity\": 10, \"price\": 20, \"brand\": \"mdh\", \"exp date\": \"oct 2022\"}, \"1029\": {\"name\": \"maggi\", \"quantity\": 10, \"price\": 12, \"brand\": \"nestle\", \"exp date\": \"oct 2022\"}, \"1030\": {\"name\": \"kit kat\", \"quantity\": 10, \"price\": 20, \"brand\": \"nestle\", \"exp date\": \"oct 2022\"}, \"1031\": {\"name\": \"biscuit\", \"quantity\": 10, \"price\": 20, \"brand\": \"oreo\", \"exp date\": \"oct 2022\"}, \"1032\": {\"name\": \"namkeen\", \"quantity\": 10, \"price\": 80, \"brand\": \"haldiram\", \"exp date\": \"oct 2022\"}, \"1033\": {\"name\": \"sanitizer\", \"quantity\": 10, \"price\": 50, \"brand\": \"dettol\", \"exp date\": \"oct 2022\"}, \"1034\": {\"name\": \"mask\", \"quantity\": 100, \"price\": 60, \"brand\": \"nike\", \"exp date\": \"oct 2022\"}, \"1035\": {\"name\": \"dettol handwash\", \"quantity\": 10, \"price\": 109, \"brand\": \"dettol\", \"exp date\": \"oct 2022\"}, \"1036\": {\"name\": \"floor cleaner\", \"quantity\": 10, \"price\": 100, \"brand\": \"dettol\", \"exp date\": \"oct 2022\"}, \"1037\": {\"name\": \"jam\", \"quantity\": 10, \"price\": 80, \"brand\": \"kissan\", \"exp date\": \"oct 2022\"}, \"1038\": {\"name\": \"ketchup\", \"quantity\": 10, \"price\": 99, \"brand\": \"kissan\", \"exp date\": \"oct 2022\"}, \"1040\": {\"name\": \"coffee\", \"quantity\": 10, \"price\": 60, \"brand\": \"nescafe\", \"exp date\": \"oct 2022\"}, \"1041\": {\"name\": \"odonil bathroom air freshner\", \"quantity\": 10, \"price\": 50, \"brand\": \"odonil\", \"exp date\": \"oct 2022\"}, \"1042\": {\"name\": \"harpic disinfectant toilet\", \"quantity\": 10, \"price\": 120, \"brand\": \"harpic\", \"exp date\": \"oct 2022\"}, \"1043\": {\"name\": \"colin\", \"quantity\": 10, \"price\": 200, \"brand\": \"godrej\", \"exp date\": \"oct 2022\"}, \"1044\": {\"name\": \"washing powder\", \"quantity\": 10, \"price\": 200, \"brand\": \"tide\", \"exp date\": \"oct 2022\"}, \"1045\": {\"name\": \"ezee wash\", \"quantity\": 10, \"price\": 200, \"brand\": \"godrej\", \"exp date\": \"oct 2022\"}, \"1046\": {\"name\": \"mosquito killer\", \"quantity\": 10, \"price\": 189, \"brand\": \"hit\", \"exp date\": \"oct 2022\"}, \"1047\": {\"name\": \"mosquito repellant refill\", \"quantity\": 10, \"price\": 129, \"brand\": \"all out\", \"exp date\": \"oct 2022\"}}'"
            ]
          },
          "metadata": {},
          "execution_count": 19
        }
      ]
    },
    {
      "cell_type": "code",
      "metadata": {
        "id": "JKuXcgU0zeZL"
      },
      "source": [
        "fd = open(\"products.json\",'w')\n",
        "\n",
        "fd.write(js)\n",
        "\n",
        "fd.close()"
      ],
      "execution_count": 20,
      "outputs": []
    },
    {
      "cell_type": "code",
      "metadata": {
        "id": "mRAb0D_Dzedi"
      },
      "source": [
        "fd = open(\"products.json\",'r')\n",
        "\n",
        "txt = fd.read()\n",
        "\n",
        "fd.close()"
      ],
      "execution_count": 24,
      "outputs": []
    },
    {
      "cell_type": "code",
      "metadata": {
        "colab": {
          "base_uri": "https://localhost:8080/",
          "height": 120
        },
        "id": "YHtyVlKI9Eng",
        "outputId": "67423384-6a79-4d08-b761-5a3df3b6c209"
      },
      "source": [
        "txt"
      ],
      "execution_count": 26,
      "outputs": [
        {
          "output_type": "execute_result",
          "data": {
            "application/vnd.google.colaboratory.intrinsic+json": {
              "type": "string"
            },
            "text/plain": [
              "'{\"1001\": {\"name\": \"Atta\", \"quantity\": 10, \"price\": 300, \"brand\": \"shaktibhog\", \"exp date\": \"oct 2022\"}, \"1002\": {\"name\": \"refind\", \"quantity\": 10, \"price\": 200, \"brand\": \"fortune\", \"exp date\": \"oct 2022\"}, \"1003\": {\"name\": \"salt\", \"quantity\": 10, \"price\": 20, \"brand\": \"tata\", \"exp date\": \"oct 2022\"}, \"1004\": {\"name\": \"dates\", \"quantity\": 10, \"price\": 120, \"brand\": \"lion\", \"exp date\": \"oct 2022\"}, \"1005\": {\"name\": \"chocolates\", \"quantity\": 10, \"price\": 30, \"brand\": \"cadbury\", \"exp date\": \"oct 2022\"}, \"1006\": {\"name\": \"battery\", \"quantity\": 10, \"price\": 10, \"brand\": \"cello\", \"exp date\": \"oct 2022\"}, \"1007\": {\"name\": \"ice cream\", \"quantity\": 10, \"price\": 150, \"brand\": \"nic\", \"exp date\": \"oct 2022\"}, \"1008\": {\"name\": \"kidney beans\", \"quantity\": 100, \"price\": 200, \"brand\": \"kashmiri\", \"exp date\": \"oct 2022\"}, \"1009\": {\"name\": \"turmeric\", \"quantity\": 10, \"price\": 20, \"brand\": \"tata\", \"exp date\": \"oct 2022\"}, \"1010\": {\"name\": \"hair oil\", \"quantity\": 10, \"price\": 20, \"brand\": \"P&G\", \"exp date\": \"oct 2022\"}, \"1011\": {\"name\": \"shampoo\", \"quantity\": 10, \"price\": 200, \"brand\": \"P&G\", \"exp date\": \"oct 2022\"}, \"1012\": {\"name\": \"soap\", \"quantity\": 10, \"price\": 50, \"brand\": \"dettol\", \"exp date\": \"oct 2022\"}, \"1013\": {\"name\": \"powder\", \"quantity\": 10, \"price\": 200, \"brand\": \"ponds\", \"exp date\": \"oct 2022\"}, \"1014\": {\"name\": \"face cream\", \"quantity\": 10, \"price\": 200, \"brand\": \"olay\", \"exp date\": \"oct 2022\"}, \"1015\": {\"name\": \"cooking oil\", \"quantity\": 10, \"price\": 200, \"brand\": \"fortune\", \"exp date\": \"oct 2022\"}, \"1016\": {\"name\": \"pepsi\", \"quantity\": 10, \"price\": 20, \"brand\": \"pepsico\", \"exp date\": \"oct 2022\"}, \"1017\": {\"name\": \"kurkure\", \"quantity\": 10, \"price\": 20, \"brand\": \"pepsico\", \"exp date\": \"oct 2022\"}, \"1018\": {\"name\": \"lays\", \"quantity\": 10, \"price\": 20, \"brand\": \"pepsico\", \"exp date\": \"oct 2022\"}, \"1019\": {\"name\": \"hair conditioner\", \"quantity\": 10, \"price\": 200, \"brand\": \"p&g\", \"exp date\": \"oct 2022\"}, \"1020\": {\"name\": \"bournvita\", \"quantity\": 10, \"price\": 200, \"brand\": \"cadbury\", \"exp date\": \"oct 2022\"}, \"1021\": {\"name\": \"sugar\", \"quantity\": 10, \"price\": 40, \"brand\": \"tata\", \"exp date\": \"oct 2022\"}, \"1022\": {\"name\": \"jaggery\", \"quantity\": 10, \"price\": 100, \"brand\": \"tata\", \"exp date\": \"oct 2022\"}, \"1023\": {\"name\": \"tea leaf\", \"quantity\": 10, \"price\": 200, \"brand\": \"tata\", \"exp date\": \"oct 2022\"}, \"1024\": {\"name\": \"oats\", \"quantity\": 10, \"price\": 20, \"brand\": \"saffola\", \"exp date\": \"oct 2022\"}, \"1025\": {\"name\": \"dish bar\", \"quantity\": 10, \"price\": 20, \"brand\": \"vim\", \"exp date\": \"oct 2022\"}, \"1026\": {\"name\": \"macaroni\", \"quantity\": 10, \"price\": 50, \"brand\": \"tata\", \"exp date\": \"oct 2022\"}, \"1027\": {\"name\": \"vermicelli\", \"quantity\": 10, \"price\": 20, \"brand\": \"mdh\", \"exp date\": \"oct 2022\"}, \"1028\": {\"name\": \"food masala\", \"quantity\": 10, \"price\": 20, \"brand\": \"mdh\", \"exp date\": \"oct 2022\"}, \"1029\": {\"name\": \"maggi\", \"quantity\": 10, \"price\": 12, \"brand\": \"nestle\", \"exp date\": \"oct 2022\"}, \"1030\": {\"name\": \"kit kat\", \"quantity\": 10, \"price\": 20, \"brand\": \"nestle\", \"exp date\": \"oct 2022\"}, \"1031\": {\"name\": \"biscuit\", \"quantity\": 10, \"price\": 20, \"brand\": \"oreo\", \"exp date\": \"oct 2022\"}, \"1032\": {\"name\": \"namkeen\", \"quantity\": 10, \"price\": 80, \"brand\": \"haldiram\", \"exp date\": \"oct 2022\"}, \"1033\": {\"name\": \"sanitizer\", \"quantity\": 10, \"price\": 50, \"brand\": \"dettol\", \"exp date\": \"oct 2022\"}, \"1034\": {\"name\": \"mask\", \"quantity\": 100, \"price\": 60, \"brand\": \"nike\", \"exp date\": \"oct 2022\"}, \"1035\": {\"name\": \"dettol handwash\", \"quantity\": 10, \"price\": 109, \"brand\": \"dettol\", \"exp date\": \"oct 2022\"}, \"1036\": {\"name\": \"floor cleaner\", \"quantity\": 10, \"price\": 100, \"brand\": \"dettol\", \"exp date\": \"oct 2022\"}, \"1037\": {\"name\": \"jam\", \"quantity\": 10, \"price\": 80, \"brand\": \"kissan\", \"exp date\": \"oct 2022\"}, \"1038\": {\"name\": \"ketchup\", \"quantity\": 10, \"price\": 99, \"brand\": \"kissan\", \"exp date\": \"oct 2022\"}, \"1040\": {\"name\": \"coffee\", \"quantity\": 10, \"price\": 60, \"brand\": \"nescafe\", \"exp date\": \"oct 2022\"}, \"1041\": {\"name\": \"odonil bathroom air freshner\", \"quantity\": 10, \"price\": 50, \"brand\": \"odonil\", \"exp date\": \"oct 2022\"}, \"1042\": {\"name\": \"harpic disinfectant toilet\", \"quantity\": 10, \"price\": 120, \"brand\": \"harpic\", \"exp date\": \"oct 2022\"}, \"1043\": {\"name\": \"colin\", \"quantity\": 10, \"price\": 200, \"brand\": \"godrej\", \"exp date\": \"oct 2022\"}, \"1044\": {\"name\": \"washing powder\", \"quantity\": 10, \"price\": 200, \"brand\": \"tide\", \"exp date\": \"oct 2022\"}, \"1045\": {\"name\": \"ezee wash\", \"quantity\": 10, \"price\": 200, \"brand\": \"godrej\", \"exp date\": \"oct 2022\"}, \"1046\": {\"name\": \"mosquito killer\", \"quantity\": 10, \"price\": 189, \"brand\": \"hit\", \"exp date\": \"oct 2022\"}, \"1047\": {\"name\": \"mosquito repellant refill\", \"quantity\": 10, \"price\": 129, \"brand\": \"all out\", \"exp date\": \"oct 2022\"}}{\"1001\": {\"name\": \"Atta\", \"quantity\": 10, \"price\": 300, \"brand\": \"shaktibhog\", \"exp date\": \"oct 2022\"}, \"1002\": {\"name\": \"refind\", \"quantity\": 10, \"price\": 200, \"brand\": \"fortune\", \"exp date\": \"oct 2022\"}, \"1003\": {\"name\": \"salt\", \"quantity\": 10, \"price\": 20, \"brand\": \"tata\", \"exp date\": \"oct 2022\"}, \"1004\": {\"name\": \"dates\", \"quantity\": 10, \"price\": 120, \"brand\": \"lion\", \"exp date\": \"oct 2022\"}, \"1005\": {\"name\": \"chocolates\", \"quantity\": 10, \"price\": 30, \"brand\": \"cadbury\", \"exp date\": \"oct 2022\"}, \"1006\": {\"name\": \"battery\", \"quantity\": 10, \"price\": 10, \"brand\": \"cello\", \"exp date\": \"oct 2022\"}, \"1007\": {\"name\": \"ice cream\", \"quantity\": 10, \"price\": 150, \"brand\": \"nic\", \"exp date\": \"oct 2022\"}, \"1008\": {\"name\": \"kidney beans\", \"quantity\": 100, \"price\": 200, \"brand\": \"kashmiri\", \"exp date\": \"oct 2022\"}, \"1009\": {\"name\": \"turmeric\", \"quantity\": 10, \"price\": 20, \"brand\": \"tata\", \"exp date\": \"oct 2022\"}, \"1010\": {\"name\": \"hair oil\", \"quantity\": 10, \"price\": 20, \"brand\": \"P&G\", \"exp date\": \"oct 2022\"}, \"1011\": {\"name\": \"shampoo\", \"quantity\": 10, \"price\": 200, \"brand\": \"P&G\", \"exp date\": \"oct 2022\"}, \"1012\": {\"name\": \"soap\", \"quantity\": 10, \"price\": 50, \"brand\": \"dettol\", \"exp date\": \"oct 2022\"}, \"1013\": {\"name\": \"powder\", \"quantity\": 10, \"price\": 200, \"brand\": \"ponds\", \"exp date\": \"oct 2022\"}, \"1014\": {\"name\": \"face cream\", \"quantity\": 10, \"price\": 200, \"brand\": \"olay\", \"exp date\": \"oct 2022\"}, \"1015\": {\"name\": \"cooking oil\", \"quantity\": 10, \"price\": 200, \"brand\": \"fortune\", \"exp date\": \"oct 2022\"}, \"1016\": {\"name\": \"pepsi\", \"quantity\": 10, \"price\": 20, \"brand\": \"pepsico\", \"exp date\": \"oct 2022\"}, \"1017\": {\"name\": \"kurkure\", \"quantity\": 10, \"price\": 20, \"brand\": \"pepsico\", \"exp date\": \"oct 2022\"}, \"1018\": {\"name\": \"lays\", \"quantity\": 10, \"price\": 20, \"brand\": \"pepsico\", \"exp date\": \"oct 2022\"}, \"1019\": {\"name\": \"hair conditioner\", \"quantity\": 10, \"price\": 200, \"brand\": \"p&g\", \"exp date\": \"oct 2022\"}, \"1020\": {\"name\": \"bournvita\", \"quantity\": 10, \"price\": 200, \"brand\": \"cadbury\", \"exp date\": \"oct 2022\"}, \"1021\": {\"name\": \"sugar\", \"quantity\": 10, \"price\": 40, \"brand\": \"tata\", \"exp date\": \"oct 2022\"}, \"1022\": {\"name\": \"jaggery\", \"quantity\": 10, \"price\": 100, \"brand\": \"tata\", \"exp date\": \"oct 2022\"}, \"1023\": {\"name\": \"tea leaf\", \"quantity\": 10, \"price\": 200, \"brand\": \"tata\", \"exp date\": \"oct 2022\"}, \"1024\": {\"name\": \"oats\", \"quantity\": 10, \"price\": 20, \"brand\": \"saffola\", \"exp date\": \"oct 2022\"}, \"1025\": {\"name\": \"dish bar\", \"quantity\": 10, \"price\": 20, \"brand\": \"vim\", \"exp date\": \"oct 2022\"}, \"1026\": {\"name\": \"macaroni\", \"quantity\": 10, \"price\": 50, \"brand\": \"tata\", \"exp date\": \"oct 2022\"}, \"1027\": {\"name\": \"vermicelli\", \"quantity\": 10, \"price\": 20, \"brand\": \"mdh\", \"exp date\": \"oct 2022\"}, \"1028\": {\"name\": \"food masala\", \"quantity\": 10, \"price\": 20, \"brand\": \"mdh\", \"exp date\": \"oct 2022\"}, \"1029\": {\"name\": \"maggi\", \"quantity\": 10, \"price\": 12, \"brand\": \"nestle\", \"exp date\": \"oct 2022\"}, \"1030\": {\"name\": \"kit kat\", \"quantity\": 10, \"price\": 20, \"brand\": \"nestle\", \"exp date\": \"oct 2022\"}, \"1031\": {\"name\": \"biscuit\", \"quantity\": 10, \"price\": 20, \"brand\": \"oreo\", \"exp date\": \"oct 2022\"}, \"1032\": {\"name\": \"namkeen\", \"quantity\": 10, \"price\": 80, \"brand\": \"haldiram\", \"exp date\": \"oct 2022\"}, \"1033\": {\"name\": \"sanitizer\", \"quantity\": 10, \"price\": 50, \"brand\": \"dettol\", \"exp date\": \"oct 2022\"}, \"1034\": {\"name\": \"mask\", \"quantity\": 100, \"price\": 60, \"brand\": \"nike\", \"exp date\": \"oct 2022\"}, \"1035\": {\"name\": \"dettol handwash\", \"quantity\": 10, \"price\": 109, \"brand\": \"dettol\", \"exp date\": \"oct 2022\"}, \"1036\": {\"name\": \"floor cleaner\", \"quantity\": 10, \"price\": 100, \"brand\": \"dettol\", \"exp date\": \"oct 2022\"}, \"1037\": {\"name\": \"jam\", \"quantity\": 10, \"price\": 80, \"brand\": \"kissan\", \"exp date\": \"oct 2022\"}, \"1038\": {\"name\": \"ketchup\", \"quantity\": 10, \"price\": 99, \"brand\": \"kissan\", \"exp date\": \"oct 2022\"}, \"1040\": {\"name\": \"coffee\", \"quantity\": 10, \"price\": 60, \"brand\": \"nescafe\", \"exp date\": \"oct 2022\"}, \"1041\": {\"name\": \"odonil bathroom air freshner\", \"quantity\": 10, \"price\": 50, \"brand\": \"odonil\", \"exp date\": \"oct 2022\"}, \"1042\": {\"name\": \"harpic disinfectant toilet\", \"quantity\": 10, \"price\": 120, \"brand\": \"harpic\", \"exp date\": \"oct 2022\"}, \"1043\": {\"name\": \"colin\", \"quantity\": 10, \"price\": 200, \"brand\": \"godrej\", \"exp date\": \"oct 2022\"}, \"1044\": {\"name\": \"washing powder\", \"quantity\": 10, \"price\": 200, \"brand\": \"tide\", \"exp date\": \"oct 2022\"}, \"1045\": {\"name\": \"ezee wash\", \"quantity\": 10, \"price\": 200, \"brand\": \"godrej\", \"exp date\": \"oct 2022\"}, \"1046\": {\"name\": \"mosquito killer\", \"quantity\": 10, \"price\": 189, \"brand\": \"hit\", \"exp date\": \"oct 2022\"}, \"1047\": {\"name\": \"mosquito repellant refill\", \"quantity\": 10, \"price\": 129, \"brand\": \"all out\", \"exp date\": \"oct 2022\"}}'"
            ]
          },
          "metadata": {},
          "execution_count": 26
        }
      ]
    },
    {
      "cell_type": "code",
      "metadata": {
        "id": "jl-Vx9knzer1",
        "colab": {
          "base_uri": "https://localhost:8080/"
        },
        "outputId": "a9de8b89-8863-450c-fc35-adbd21192849"
      },
      "source": [
        "products"
      ],
      "execution_count": 30,
      "outputs": [
        {
          "output_type": "execute_result",
          "data": {
            "text/plain": [
              "{1001: {'brand': 'shaktibhog',\n",
              "  'exp date': 'oct 2022',\n",
              "  'name': 'Atta',\n",
              "  'price': 300,\n",
              "  'quantity': 10},\n",
              " 1002: {'brand': 'fortune',\n",
              "  'exp date': 'oct 2022',\n",
              "  'name': 'refind',\n",
              "  'price': 200,\n",
              "  'quantity': 10},\n",
              " 1003: {'brand': 'tata',\n",
              "  'exp date': 'oct 2022',\n",
              "  'name': 'salt',\n",
              "  'price': 20,\n",
              "  'quantity': 10},\n",
              " 1004: {'brand': 'lion',\n",
              "  'exp date': 'oct 2022',\n",
              "  'name': 'dates',\n",
              "  'price': 120,\n",
              "  'quantity': 10},\n",
              " 1005: {'brand': 'cadbury',\n",
              "  'exp date': 'oct 2022',\n",
              "  'name': 'chocolates',\n",
              "  'price': 30,\n",
              "  'quantity': 10},\n",
              " 1006: {'brand': 'cello',\n",
              "  'exp date': 'oct 2022',\n",
              "  'name': 'battery',\n",
              "  'price': 10,\n",
              "  'quantity': 10},\n",
              " 1007: {'brand': 'nic',\n",
              "  'exp date': 'oct 2022',\n",
              "  'name': 'ice cream',\n",
              "  'price': 150,\n",
              "  'quantity': 10},\n",
              " 1008: {'brand': 'kashmiri',\n",
              "  'exp date': 'oct 2022',\n",
              "  'name': 'kidney beans',\n",
              "  'price': 200,\n",
              "  'quantity': 100},\n",
              " 1009: {'brand': 'tata',\n",
              "  'exp date': 'oct 2022',\n",
              "  'name': 'turmeric',\n",
              "  'price': 20,\n",
              "  'quantity': 10},\n",
              " 1010: {'brand': 'P&G',\n",
              "  'exp date': 'oct 2022',\n",
              "  'name': 'hair oil',\n",
              "  'price': 20,\n",
              "  'quantity': 10},\n",
              " 1011: {'brand': 'P&G',\n",
              "  'exp date': 'oct 2022',\n",
              "  'name': 'shampoo',\n",
              "  'price': 200,\n",
              "  'quantity': 10},\n",
              " 1012: {'brand': 'dettol',\n",
              "  'exp date': 'oct 2022',\n",
              "  'name': 'soap',\n",
              "  'price': 50,\n",
              "  'quantity': 10},\n",
              " 1013: {'brand': 'ponds',\n",
              "  'exp date': 'oct 2022',\n",
              "  'name': 'powder',\n",
              "  'price': 200,\n",
              "  'quantity': 10},\n",
              " 1014: {'brand': 'olay',\n",
              "  'exp date': 'oct 2022',\n",
              "  'name': 'face cream',\n",
              "  'price': 200,\n",
              "  'quantity': 10},\n",
              " 1015: {'brand': 'fortune',\n",
              "  'exp date': 'oct 2022',\n",
              "  'name': 'cooking oil',\n",
              "  'price': 200,\n",
              "  'quantity': 10},\n",
              " 1016: {'brand': 'pepsico',\n",
              "  'exp date': 'oct 2022',\n",
              "  'name': 'pepsi',\n",
              "  'price': 20,\n",
              "  'quantity': 10},\n",
              " 1017: {'brand': 'pepsico',\n",
              "  'exp date': 'oct 2022',\n",
              "  'name': 'kurkure',\n",
              "  'price': 20,\n",
              "  'quantity': 10},\n",
              " 1018: {'brand': 'pepsico',\n",
              "  'exp date': 'oct 2022',\n",
              "  'name': 'lays',\n",
              "  'price': 20,\n",
              "  'quantity': 10},\n",
              " 1019: {'brand': 'p&g',\n",
              "  'exp date': 'oct 2022',\n",
              "  'name': 'hair conditioner',\n",
              "  'price': 200,\n",
              "  'quantity': 10},\n",
              " 1020: {'brand': 'cadbury',\n",
              "  'exp date': 'oct 2022',\n",
              "  'name': 'bournvita',\n",
              "  'price': 200,\n",
              "  'quantity': 10},\n",
              " 1021: {'brand': 'tata',\n",
              "  'exp date': 'oct 2022',\n",
              "  'name': 'sugar',\n",
              "  'price': 40,\n",
              "  'quantity': 10},\n",
              " 1022: {'brand': 'tata',\n",
              "  'exp date': 'oct 2022',\n",
              "  'name': 'jaggery',\n",
              "  'price': 100,\n",
              "  'quantity': 10},\n",
              " 1023: {'brand': 'tata',\n",
              "  'exp date': 'oct 2022',\n",
              "  'name': 'tea leaf',\n",
              "  'price': 200,\n",
              "  'quantity': 10},\n",
              " 1024: {'brand': 'saffola',\n",
              "  'exp date': 'oct 2022',\n",
              "  'name': 'oats',\n",
              "  'price': 20,\n",
              "  'quantity': 10},\n",
              " 1025: {'brand': 'vim',\n",
              "  'exp date': 'oct 2022',\n",
              "  'name': 'dish bar',\n",
              "  'price': 20,\n",
              "  'quantity': 10},\n",
              " 1026: {'brand': 'tata',\n",
              "  'exp date': 'oct 2022',\n",
              "  'name': 'macaroni',\n",
              "  'price': 50,\n",
              "  'quantity': 10},\n",
              " 1027: {'brand': 'mdh',\n",
              "  'exp date': 'oct 2022',\n",
              "  'name': 'vermicelli',\n",
              "  'price': 20,\n",
              "  'quantity': 10},\n",
              " 1028: {'brand': 'mdh',\n",
              "  'exp date': 'oct 2022',\n",
              "  'name': 'food masala',\n",
              "  'price': 20,\n",
              "  'quantity': 10},\n",
              " 1029: {'brand': 'nestle',\n",
              "  'exp date': 'oct 2022',\n",
              "  'name': 'maggi',\n",
              "  'price': 12,\n",
              "  'quantity': 10},\n",
              " 1030: {'brand': 'nestle',\n",
              "  'exp date': 'oct 2022',\n",
              "  'name': 'kit kat',\n",
              "  'price': 20,\n",
              "  'quantity': 10},\n",
              " 1031: {'brand': 'oreo',\n",
              "  'exp date': 'oct 2022',\n",
              "  'name': 'biscuit',\n",
              "  'price': 20,\n",
              "  'quantity': 10},\n",
              " 1032: {'brand': 'haldiram',\n",
              "  'exp date': 'oct 2022',\n",
              "  'name': 'namkeen',\n",
              "  'price': 80,\n",
              "  'quantity': 10},\n",
              " 1033: {'brand': 'dettol',\n",
              "  'exp date': 'oct 2022',\n",
              "  'name': 'sanitizer',\n",
              "  'price': 50,\n",
              "  'quantity': 10},\n",
              " 1034: {'brand': 'nike',\n",
              "  'exp date': 'oct 2022',\n",
              "  'name': 'mask',\n",
              "  'price': 60,\n",
              "  'quantity': 100},\n",
              " 1035: {'brand': 'dettol',\n",
              "  'exp date': 'oct 2022',\n",
              "  'name': 'dettol handwash',\n",
              "  'price': 109,\n",
              "  'quantity': 10},\n",
              " 1036: {'brand': 'dettol',\n",
              "  'exp date': 'oct 2022',\n",
              "  'name': 'floor cleaner',\n",
              "  'price': 100,\n",
              "  'quantity': 10},\n",
              " 1037: {'brand': 'kissan',\n",
              "  'exp date': 'oct 2022',\n",
              "  'name': 'jam',\n",
              "  'price': 80,\n",
              "  'quantity': 10},\n",
              " 1038: {'brand': 'kissan',\n",
              "  'exp date': 'oct 2022',\n",
              "  'name': 'ketchup',\n",
              "  'price': 99,\n",
              "  'quantity': 10},\n",
              " 1040: {'brand': 'nescafe',\n",
              "  'exp date': 'oct 2022',\n",
              "  'name': 'coffee',\n",
              "  'price': 60,\n",
              "  'quantity': 10},\n",
              " 1041: {'brand': 'odonil',\n",
              "  'exp date': 'oct 2022',\n",
              "  'name': 'odonil bathroom air freshner',\n",
              "  'price': 50,\n",
              "  'quantity': 10},\n",
              " 1042: {'brand': 'harpic',\n",
              "  'exp date': 'oct 2022',\n",
              "  'name': 'harpic disinfectant toilet',\n",
              "  'price': 120,\n",
              "  'quantity': 10},\n",
              " 1043: {'brand': 'godrej',\n",
              "  'exp date': 'oct 2022',\n",
              "  'name': 'colin',\n",
              "  'price': 200,\n",
              "  'quantity': 10},\n",
              " 1044: {'brand': 'tide',\n",
              "  'exp date': 'oct 2022',\n",
              "  'name': 'washing powder',\n",
              "  'price': 200,\n",
              "  'quantity': 10},\n",
              " 1045: {'brand': 'godrej',\n",
              "  'exp date': 'oct 2022',\n",
              "  'name': 'ezee wash',\n",
              "  'price': 200,\n",
              "  'quantity': 10},\n",
              " 1046: {'brand': 'hit',\n",
              "  'exp date': 'oct 2022',\n",
              "  'name': 'mosquito killer',\n",
              "  'price': 189,\n",
              "  'quantity': 10},\n",
              " 1047: {'brand': 'all out',\n",
              "  'exp date': 'oct 2022',\n",
              "  'name': 'mosquito repellant refill',\n",
              "  'price': 129,\n",
              "  'quantity': 10}}"
            ]
          },
          "metadata": {},
          "execution_count": 30
        }
      ]
    },
    {
      "cell_type": "code",
      "metadata": {
        "id": "jKmq2iUDze08",
        "colab": {
          "base_uri": "https://localhost:8080/"
        },
        "outputId": "1fe26748-0659-47f7-ca0c-eb50d7b9f21c"
      },
      "source": [
        "product_id = input(\"enter product id:\")\n",
        "name = input(\"enter name:\")\n",
        "price = int(input(\"enter product price:\"))\n",
        "quantity = int(input(\"enter product quantity:\"))\n",
        "brand = input(\"enter the brand of the product\")"
      ],
      "execution_count": 40,
      "outputs": [
        {
          "name": "stdout",
          "output_type": "stream",
          "text": [
            "enter product id:1038\n",
            "enter name:ketchup\n",
            "enter product price:50\n",
            "enter product quantity:50\n",
            "enter the brand of the productkissan\n"
          ]
        }
      ]
    },
    {
      "cell_type": "code",
      "metadata": {
        "id": "uE-BI6_6ze5b"
      },
      "source": [
        ""
      ],
      "execution_count": null,
      "outputs": []
    },
    {
      "cell_type": "code",
      "metadata": {
        "id": "0bETKIcYze7y"
      },
      "source": [
        ""
      ],
      "execution_count": null,
      "outputs": []
    },
    {
      "cell_type": "code",
      "metadata": {
        "id": "9YMVq7BJze_t"
      },
      "source": [
        ""
      ],
      "execution_count": null,
      "outputs": []
    }
  ]
}